{
  "nbformat": 4,
  "nbformat_minor": 0,
  "metadata": {
    "colab": {
      "name": "SAC-Final.ipynb",
      "provenance": [],
      "collapsed_sections": [],
      "machine_shape": "hm",
      "include_colab_link": true
    },
    "kernelspec": {
      "name": "python3",
      "display_name": "Python 3"
    }
  },
  "cells": [
    {
      "cell_type": "markdown",
      "metadata": {
        "id": "view-in-github",
        "colab_type": "text"
      },
      "source": [
        "<a href=\"https://colab.research.google.com/github/yiyangwang0715/covid-tweets/blob/main/Sentiment%20Analysis.ipynb\" target=\"_parent\"><img src=\"https://colab.research.google.com/assets/colab-badge.svg\" alt=\"Open In Colab\"/></a>"
      ]
    },
    {
      "cell_type": "code",
      "metadata": {
        "id": "ftRWJ5LPVDtO"
      },
      "source": [
        "# sentiment analysis "
      ],
      "execution_count": null,
      "outputs": []
    },
    {
      "cell_type": "code",
      "metadata": {
        "id": "1uwXoHbdVF_V"
      },
      "source": [
        "NoOfTerms = int(input(\"Enter how many tweets to search: \"))\n",
        "searchTerm = input(\"Enter Keyword/Tag to search about: \")"
      ],
      "execution_count": null,
      "outputs": []
    },
    {
      "cell_type": "code",
      "metadata": {
        "id": "z7yo2a1LVP2j"
      },
      "source": [
        "    # function to calculate percentage\n",
        "    def percentage(self, part, whole):\n",
        "        temp = 100 * float(part) / float(whole)\n",
        "        return format(temp, '.2f')\n",
        "\n",
        "    def plotPieChart(self, positive, wpositive, spositive, negative, wnegative, snegative, neutral, searchTerm, noOfSearchTerms):\n",
        "        labels = ['Positive [' + str(positive) + '%]', 'Weakly Positive [' + str(wpositive) + '%]','Strongly Positive [' + str(spositive) + '%]', 'Neutral [' + str(neutral) + '%]',\n",
        "                  'Negative [' + str(negative) + '%]', 'Weakly Negative [' + str(wnegative) + '%]', 'Strongly Negative [' + str(snegative) + '%]']\n",
        "        sizes = [positive, wpositive, spositive, neutral, negative, wnegative, snegative]\n",
        "        colors = ['yellowgreen','lightgreen','darkgreen', 'gold', 'red','lightsalmon','darkred']\n",
        "        patches, texts = plt.pie(sizes, colors=colors, startangle=90)\n",
        "        plt.legend(patches, labels, loc=\"best\")\n",
        "        plt.title('How people are reacting on ' + searchTerm + ' by analyzing ' + str(noOfSearchTerms) + ' Tweets.')\n",
        "        plt.axis('equal')\n",
        "        plt.tight_layout()\n",
        "        plt.show()"
      ],
      "execution_count": null,
      "outputs": []
    },
    {
      "cell_type": "code",
      "metadata": {
        "id": "ScpWbRnMVKK9"
      },
      "source": [
        "        # creating some variables to store info\n",
        "        polarity = 0\n",
        "        positive = 0\n",
        "        wpositive = 0\n",
        "        spositive = 0\n",
        "        negative = 0\n",
        "        wnegative = 0\n",
        "        snegative = 0\n",
        "        neutral = 0\n",
        "\n",
        "\n",
        "        # iterating through tweets fetched\n",
        "        for tweet in sample1.Processed_Tweet:\n",
        "\n",
        "            analysis = TextBlob(tweet)\n",
        "            print(analysis.sentiment)  # print tweet's polarity\n",
        "            polarity += analysis.sentiment.polarity  # adding up polarities to find the average later\n",
        "\n",
        "            if (analysis.sentiment.polarity == 0):  # adding reaction of how people are reacting to find average later\n",
        "                neutral += 1\n",
        "            elif (analysis.sentiment.polarity > 0 and analysis.sentiment.polarity <= 0.3):\n",
        "                wpositive += 1\n",
        "            elif (analysis.sentiment.polarity > 0.3 and analysis.sentiment.polarity <= 0.6):\n",
        "                positive += 1\n",
        "            elif (analysis.sentiment.polarity > 0.6 and analysis.sentiment.polarity <= 1):\n",
        "                spositive += 1\n",
        "            elif (analysis.sentiment.polarity > -0.3 and analysis.sentiment.polarity <= 0):\n",
        "                wnegative += 1\n",
        "            elif (analysis.sentiment.polarity > -0.6 and analysis.sentiment.polarity <= -0.3):\n",
        "                negative += 1\n",
        "            elif (analysis.sentiment.polarity > -1 and analysis.sentiment.polarity <= -0.6):\n",
        "                snegative += 1\n"
      ],
      "execution_count": null,
      "outputs": []
    },
    {
      "cell_type": "code",
      "metadata": {
        "id": "RGXAZ0MJVSAw"
      },
      "source": [
        "        positive = percentage(sample1,positive, NoOfTerms)\n",
        "        wpositive = percentage(sample1,wpositive, NoOfTerms)\n",
        "        spositive = percentage(sample1,spositive, NoOfTerms)\n",
        "        negative = percentage(sample1,negative, NoOfTerms)\n",
        "        wnegative = percentage(sample1,wnegative, NoOfTerms)\n",
        "        snegative = percentage(sample1,snegative, NoOfTerms)\n",
        "        neutral = percentage(sample1,neutral, NoOfTerms)"
      ],
      "execution_count": null,
      "outputs": []
    },
    {
      "cell_type": "code",
      "metadata": {
        "id": "lkpur2xSVU-x"
      },
      "source": [
        "        # finding average reaction\n",
        "        polarity = polarity / NoOfTerms\n",
        "\n",
        "        # printing out data\n",
        "        print(\"How people are reacting on \" + searchTerm + \" by analyzing \" + str(NoOfTerms) + \" tweets.\")\n",
        "\n",
        "\n",
        "        if (polarity == 0):\n",
        "            print(\"Neutral\")\n",
        "        elif (polarity > 0 and polarity <= 0.3):\n",
        "            print(\"Weakly Positive\")\n",
        "        elif (polarity > 0.3 and polarity <= 0.6):\n",
        "            print(\"Positive\")\n",
        "        elif (polarity > 0.6 and polarity <= 1):\n",
        "            print(\"Strongly Positive\")\n",
        "        elif (polarity > -0.3 and polarity <= 0):\n",
        "            print(\"Weakly Negative\")\n",
        "        elif (polarity > -0.6 and polarity <= -0.3):\n",
        "            print(\"Negative\")\n",
        "        elif (polarity > -1 and polarity <= -0.6):\n",
        "            print(\"Strongly Negative\")\n",
        "\n",
        "        print()\n",
        "        print(\"Detailed Report: \")\n",
        "        print(str(positive) + \"% people thought it was positive\")\n",
        "        print(str(wpositive) + \"% people thought it was weakly positive\")\n",
        "        print(str(spositive) + \"% people thought it was strongly positive\")\n",
        "        print(str(negative) + \"% people thought it was negative\")\n",
        "        print(str(wnegative) + \"% people thought it was weakly negative\")\n",
        "        print(str(snegative) + \"% people thought it was strongly negative\")\n",
        "        print(str(neutral) + \"% people thought it was neutral\")\n",
        "\n",
        "        plotPieChart(sample1,positive, wpositive, spositive, negative, wnegative, snegative, neutral, searchTerm, NoOfTerms)\n"
      ],
      "execution_count": null,
      "outputs": []
    },
    {
      "cell_type": "code",
      "metadata": {
        "id": "xqpsXgENVk4S"
      },
      "source": [
        "#tweet volumn in each state\n",
        "\n",
        "count1=df['Location'].value_counts()\n",
        "count1=pd.DataFrame(count1)\n",
        "count1=count1.sort_values(by='Location',ascending=[False])\n",
        "count.head(60)"
      ],
      "execution_count": null,
      "outputs": []
    }
  ]
}